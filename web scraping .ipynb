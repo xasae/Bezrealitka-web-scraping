{
 "cells": [
  {
   "cell_type": "code",
   "execution_count": 1,
   "id": "34cae763",
   "metadata": {},
   "outputs": [],
   "source": [
    "from bs4 import BeautifulSoup\n",
    "import requests\n",
    "import csv"
   ]
  },
  {
   "cell_type": "code",
   "execution_count": 2,
   "id": "1ded3db2",
   "metadata": {},
   "outputs": [],
   "source": [
    "data = []\n",
    "for page in range(1, 73):\n",
    "    url = 'https://www.bezrealitky.cz/vyhledat?offerType=PRONAJEM&estateType=BYT&regionOsmIds=R435541&osm_value=Praha%2C+%C4%8Cesko&currency=CZK&page='\n",
    "    webpage = requests.get(url + str(page))\n",
    "    soup = BeautifulSoup(webpage.content, 'html.parser')\n",
    "    \n",
    "    #-----------------removes not necessary \"Výhodná nabídka\" box-----------------\n",
    "    section_tags = soup.find_all('section', class_=\"box Section_section__gjwvr section PropertyCardCarousel_propertyCardCarouselSection__ts7NT mb-0 bg-grey-ultra-light Box_box--rounded-lg__uS5ZG\")\n",
    "    for section in section_tags:\n",
    "        section.decompose()    \n",
    "        \n",
    "    articles = soup.find_all('article', class_=\"PropertyCard_propertyCard__moO_5 propertyCard PropertyCard_propertyCard--landscape__XvPmC\")\n",
    "    for article in articles:\n",
    "        \n",
    "        street_district_tag = article.find('span', class_=\"PropertyCard_propertyCardAddress__hNqyR text-subheadline text-truncate\")        \n",
    "        size_tag = article.find('ul', class_=\"FeaturesList_featuresList__75Wet featuresList mt-3\")\n",
    "        rent_price_tag = article.find('span', class_=\"PropertyPrice_propertyPriceAmount__WdEE1\")       \n",
    "        add_fee_tag = article.find('span', class_=\"PropertyPrice_propertyPriceAdditional__5jYQ6\")       \n",
    "        \n",
    "        #-----------------extracts text from tags-----------------\n",
    "        street_district = street_district_tag.get_text() if street_district_tag else None\n",
    "        rent_price = rent_price_tag.get_text() if rent_price_tag else None\n",
    "        add_fee = add_fee_tag.get_text() if add_fee_tag else None \n",
    "        \n",
    "        if size_tag and len(size_tag.contents) > 1:\n",
    "            room = size_tag.contents[0].get_text() if size_tag.contents[0] else None\n",
    "            area = size_tag.contents[1].get_text() if size_tag.contents[1] else None\n",
    "\n",
    "        #-----------------separates street and district-----------------\n",
    "        street = street_district.split(',')[0] \n",
    "        district = street_district.split(',')[-1].split('- ')[-1]\n",
    "\n",
    "        data.append([street, district, rent_price, add_fee, room, area])\n",
    "\n",
    "\n"
   ]
  },
  {
   "cell_type": "code",
   "execution_count": 3,
   "id": "e4b535e6",
   "metadata": {},
   "outputs": [],
   "source": [
    "#-----------------saves data in csv file-----------------\n",
    "file_name = \"bezrealitka_data.csv\"\n",
    "\n",
    "# Write the list data to a CSV file\n",
    "with open(file_name, mode='w', newline='', encoding='utf-8') as file:\n",
    "    writer = csv.writer(file)\n",
    "    # Write a header row\n",
    "    writer.writerow(['Street', 'District', 'Price', 'Fee', 'Room', 'Area'])\n",
    "    # Write the data rows\n",
    "    writer.writerows(data)\n",
    "\n"
   ]
  },
  {
   "cell_type": "code",
   "execution_count": 6,
   "id": "1e59f653",
   "metadata": {
    "scrolled": true
   },
   "outputs": [
    {
     "data": {
      "text/plain": [
       "1071"
      ]
     },
     "execution_count": 6,
     "metadata": {},
     "output_type": "execute_result"
    }
   ],
   "source": [
    "len(data)"
   ]
  }
 ],
 "metadata": {
  "kernelspec": {
   "display_name": "Python 3 (ipykernel)",
   "language": "python",
   "name": "python3"
  },
  "language_info": {
   "codemirror_mode": {
    "name": "ipython",
    "version": 3
   },
   "file_extension": ".py",
   "mimetype": "text/x-python",
   "name": "python",
   "nbconvert_exporter": "python",
   "pygments_lexer": "ipython3",
   "version": "3.11.5"
  }
 },
 "nbformat": 4,
 "nbformat_minor": 5
}
