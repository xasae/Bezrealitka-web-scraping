{
 "cells": [
  {
   "cell_type": "code",
   "execution_count": 77,
   "id": "af65430d",
   "metadata": {},
   "outputs": [],
   "source": [
    "from bs4 import BeautifulSoup\n",
    "import requests\n",
    "import pandas as pd"
   ]
  },
  {
   "cell_type": "code",
   "execution_count": 78,
   "id": "8eb03cb8",
   "metadata": {},
   "outputs": [],
   "source": [
    "districts1 = []\n",
    "streets1 = []\n",
    "room_num1 = []\n",
    "flat_areas1 = []\n",
    "is_studio1 = []\n",
    "prices1 = []\n",
    "fees1 = []"
   ]
  },
  {
   "cell_type": "code",
   "execution_count": 79,
   "id": "c7055fb3",
   "metadata": {},
   "outputs": [],
   "source": [
    "def append_to_outterlist(innerlist, outterlist):\n",
    "    for el in innerlist:\n",
    "        outterlist.append(el)"
   ]
  },
  {
   "cell_type": "code",
   "execution_count": 80,
   "id": "58e10eac",
   "metadata": {},
   "outputs": [],
   "source": [
    "url = 'https://www.bezrealitky.cz/vyhledat?offerType=PRONAJEM&estateType=BYT&osm_value=Hlavn%C3%AD+m%C4%9Bsto+Praha%2C+Praha%2C+%C4%8Cesko&regionOsmIds=R435514&currency=CZK&page='"
   ]
  },
  {
   "cell_type": "code",
   "execution_count": 89,
   "id": "780ee305",
   "metadata": {},
   "outputs": [],
   "source": [
    "#-----------------scraping 3 pages-----------------\n",
    "for page in range(1, 4):\n",
    "    webpage = requests.get(url + str(page))\n",
    "    soup = BeautifulSoup(webpage.content, 'html.parser')\n",
    "    \n",
    "    #-----------------removes not necessary \"Výhodná nabídka\" box-----------------\n",
    "    section_tags = soup.find_all('section', class_=\"box Section_section__gjwvr section PropertyCardCarousel_propertyCardCarouselSection__ts7NT mb-0 bg-grey-ultra-light Box_box--rounded-lg__uS5ZG\")\n",
    "    for section in section_tags:\n",
    "        section.decompose()"
   ]
  },
  {
   "cell_type": "code",
   "execution_count": 90,
   "id": "54d0bed8",
   "metadata": {},
   "outputs": [],
   "source": [
    "    #-----------------Prague districts and streets-----------------\n",
    "    streets_districts = [district.get_text() for district in soup.find_all('span', class_=\"PropertyCard_propertyCardAddress__hNqyR text-subheadline text-truncate\")]\n",
    "    streets = [street.split(',')[0] for street in streets_districts]\n",
    "    districts = [district.split(',')[-1].split('- ')[-1] for district in streets_districts]\n",
    "    \n",
    "    \n",
    "    #-----------------number of rooms, areas of flat-----------------\n",
    "    flat_info = [area.get_text() for area in soup.find_all('li', class_=\"FeaturesList_featuresListItem__RYf_f\")]\n",
    "    flat_info = list(map(lambda x: x.replace('Garsoniéra', '1+kk'), flat_info))\n",
    "\n",
    "    flat_areas = list(map(lambda x: int(x.split('\\xa0')[0]), flat_info[1::2]))\n",
    "\n",
    "    \n",
    "    room_num = list(map(lambda x: int(x.split('+')[0]), flat_info[0::2]))\n",
    "\n",
    "    \n",
    "    is_studio = ['Yes' if x.split('+')[1] == 'kk' else 'No' for x in flat_info[0::2]]\n",
    "\n",
    "    \n",
    "    #-----------------prices and fees-----------------\n",
    "    price_infos = soup.find_all('div', class_=\"PropertyPrice_propertyPrice__lthza propertyPrice mb-0 mt-3\")\n",
    "    prices = []\n",
    "    fees = []\n",
    "    for tag in price_infos:\n",
    "    \n",
    "        rent_price = tag.find('span', class_=\"PropertyPrice_propertyPriceAmount__WdEE1\")\n",
    "        prices.append(rent_price)\n",
    "    \n",
    "        add_fee = tag.find('span', class_=\"PropertyPrice_propertyPriceAdditional__5jYQ6\")\n",
    "        fees.append(add_fee)\n",
    "        \n",
    "    prices = list(map(lambda x: int(x.get_text().replace('\\xa0', '').split('Kč')[0]), prices))\n",
    "     \n",
    "    \n",
    "    fees = list(map(lambda x: ' + 0\\xa0Kč' if x is None else x.get_text(), fees))\n",
    "    fees = list(map(lambda x : int(x.replace('\\xa0', '').split('Kč')[0].strip(' +')), fees))\n"
   ]
  },
  {
   "cell_type": "code",
   "execution_count": 93,
   "id": "ecac2e61",
   "metadata": {
    "scrolled": false
   },
   "outputs": [],
   "source": [
    "    append_to_outterlist(streets, streets1)\n",
    "    append_to_outterlist(districts, districts1)\n",
    "    append_to_outterlist(flat_areas, flat_areas1)\n",
    "    append_to_outterlist(room_num, room_num1)\n",
    "    append_to_outterlist(is_studio, is_studio1)\n",
    "    append_to_outterlist(prices, prices1)\n",
    "    append_to_outterlist(fees, fees1)"
   ]
  },
  {
   "cell_type": "code",
   "execution_count": 94,
   "id": "0cdcae67",
   "metadata": {},
   "outputs": [
    {
     "name": "stdout",
     "output_type": "stream",
     "text": [
      "{'districts': ['Háje', 'Michle', 'Hlubočepy', 'Vysočany', 'Vinohrady', 'Vršovice', 'Žižkov', 'Michle', 'Košíře', 'Hostivař', 'Michle', 'Žižkov', 'Nové Město', 'Smíchov', 'Smíchov', 'Háje', 'Michle', 'Hlubočepy', 'Vysočany', 'Vinohrady', 'Vršovice', 'Žižkov', 'Michle', 'Košíře', 'Hostivař', 'Michle', 'Žižkov', 'Nové Město', 'Smíchov', 'Smíchov'], 'streets': ['Anny Drabíkové', 'Pod Dálnicí', 'Voskovcova', 'Freyova', 'Mánesova', 'Sevastopolská', 'Čajkovského', 'Bítovská', 'Naskové', 'Záveská', 'V\\xa0Dolině', 'Na Vrcholu', 'Lublaňská', 'Nad Koulkou', 'Na Plzeňce', 'Anny Drabíkové', 'Pod Dálnicí', 'Voskovcova', 'Freyova', 'Mánesova', 'Sevastopolská', 'Čajkovského', 'Bítovská', 'Naskové', 'Záveská', 'V\\xa0Dolině', 'Na Vrcholu', 'Lublaňská', 'Nad Koulkou', 'Na Plzeňce'], 'room_num': [3, 3, 3, 1, 3, 3, 1, 2, 2, 3, 3, 2, 1, 2, 1, 3, 3, 3, 1, 3, 3, 1, 2, 2, 3, 3, 2, 1, 2, 1], 'area': [60, 85, 88, 24, 105, 105, 58, 41, 59, 60, 92, 52, 35, 50, 39, 60, 85, 88, 24, 105, 105, 58, 41, 59, 60, 92, 52, 35, 50, 39], 'is_studio': ['Yes', 'No', 'Yes', 'Yes', 'No', 'Yes', 'No', 'Yes', 'Yes', 'Yes', 'No', 'No', 'Yes', 'No', 'No', 'Yes', 'No', 'Yes', 'Yes', 'No', 'Yes', 'No', 'Yes', 'Yes', 'Yes', 'No', 'No', 'Yes', 'No', 'No'], 'prices': [23990, 26000, 29000, 12500, 44500, 36000, 22500, 21000, 25000, 20900, 9000, 21500, 14000, 16500, 15500, 23990, 26000, 29000, 12500, 44500, 36000, 22500, 21000, 25000, 20900, 9000, 21500, 14000, 16500, 15500], 'fees': [1879, 5000, 7920, 3405, 9500, 0, 4000, 1500, 5000, 6500, 0, 5800, 4000, 3500, 4300, 1879, 5000, 7920, 3405, 9500, 0, 4000, 1500, 5000, 6500, 0, 5800, 4000, 3500, 4300]}\n"
     ]
    }
   ],
   "source": [
    "flat_dict = {'districts': districts1,\n",
    "             'streets': streets1,\n",
    "             'room_num': room_num1,\n",
    "             'area': flat_areas1,\n",
    "             'is_studio': is_studio1, \n",
    "             'prices': prices1,\n",
    "             'fees': fees1}"
   ]
  },
  {
   "cell_type": "code",
   "execution_count": 96,
   "id": "d4ba6f96",
   "metadata": {
    "scrolled": false
   },
   "outputs": [
    {
     "name": "stdout",
     "output_type": "stream",
     "text": [
      "     districts         streets  room_num  area is_studio  prices  fees\n",
      "0         Háje  Anny Drabíkové         3    60       Yes   23990  1879\n",
      "1       Michle     Pod Dálnicí         3    85        No   26000  5000\n",
      "2    Hlubočepy      Voskovcova         3    88       Yes   29000  7920\n",
      "3     Vysočany         Freyova         1    24       Yes   12500  3405\n",
      "4    Vinohrady        Mánesova         3   105        No   44500  9500\n",
      "5     Vršovice   Sevastopolská         3   105       Yes   36000     0\n",
      "6       Žižkov     Čajkovského         1    58        No   22500  4000\n",
      "7       Michle        Bítovská         2    41       Yes   21000  1500\n",
      "8       Košíře         Naskové         2    59       Yes   25000  5000\n",
      "9     Hostivař         Záveská         3    60       Yes   20900  6500\n",
      "10      Michle        V Dolině         3    92        No    9000     0\n",
      "11      Žižkov      Na Vrcholu         2    52        No   21500  5800\n",
      "12  Nové Město       Lublaňská         1    35       Yes   14000  4000\n",
      "13     Smíchov     Nad Koulkou         2    50        No   16500  3500\n",
      "14     Smíchov      Na Plzeňce         1    39        No   15500  4300\n",
      "15        Háje  Anny Drabíkové         3    60       Yes   23990  1879\n",
      "16      Michle     Pod Dálnicí         3    85        No   26000  5000\n",
      "17   Hlubočepy      Voskovcova         3    88       Yes   29000  7920\n",
      "18    Vysočany         Freyova         1    24       Yes   12500  3405\n",
      "19   Vinohrady        Mánesova         3   105        No   44500  9500\n",
      "20    Vršovice   Sevastopolská         3   105       Yes   36000     0\n",
      "21      Žižkov     Čajkovského         1    58        No   22500  4000\n",
      "22      Michle        Bítovská         2    41       Yes   21000  1500\n",
      "23      Košíře         Naskové         2    59       Yes   25000  5000\n",
      "24    Hostivař         Záveská         3    60       Yes   20900  6500\n",
      "25      Michle        V Dolině         3    92        No    9000     0\n",
      "26      Žižkov      Na Vrcholu         2    52        No   21500  5800\n",
      "27  Nové Město       Lublaňská         1    35       Yes   14000  4000\n",
      "28     Smíchov     Nad Koulkou         2    50        No   16500  3500\n",
      "29     Smíchov      Na Plzeňce         1    39        No   15500  4300\n"
     ]
    }
   ],
   "source": [
    "bezrealitka_df = pd.DataFrame.from_dict(flat_dict)\n",
    "print(bezrealitka_df)"
   ]
  },
  {
   "cell_type": "code",
   "execution_count": null,
   "id": "16fa5803",
   "metadata": {},
   "outputs": [],
   "source": []
  },
  {
   "cell_type": "code",
   "execution_count": null,
   "id": "863e1e56",
   "metadata": {},
   "outputs": [],
   "source": []
  },
  {
   "cell_type": "code",
   "execution_count": null,
   "id": "8dbcea7e",
   "metadata": {},
   "outputs": [],
   "source": []
  }
 ],
 "metadata": {
  "kernelspec": {
   "display_name": "Python 3 (ipykernel)",
   "language": "python",
   "name": "python3"
  },
  "language_info": {
   "codemirror_mode": {
    "name": "ipython",
    "version": 3
   },
   "file_extension": ".py",
   "mimetype": "text/x-python",
   "name": "python",
   "nbconvert_exporter": "python",
   "pygments_lexer": "ipython3",
   "version": "3.11.5"
  }
 },
 "nbformat": 4,
 "nbformat_minor": 5
}
